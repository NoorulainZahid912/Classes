{
 "cells": [
  {
   "cell_type": "code",
   "execution_count": null,
   "id": "7b5d2c3a",
   "metadata": {},
   "outputs": [],
   "source": [
    "# NOOR UL AIN ZAHID\n",
    "# FA24-BBD-069 (BDA-A)"
   ]
  },
  {
   "cell_type": "code",
   "execution_count": null,
   "id": "2f3b924a",
   "metadata": {},
   "outputs": [],
   "source": [
    "# Practice Exercises:"
   ]
  },
  {
   "cell_type": "code",
   "execution_count": 1,
   "id": "6e27be58",
   "metadata": {},
   "outputs": [
    {
     "name": "stdout",
     "output_type": "stream",
     "text": [
      "My name is Noor ul Ain Zahid .\n",
      "My age is 19 .\n",
      "My city name is Lahore.\n"
     ]
    }
   ],
   "source": [
    "# 1. Create a class Person with attributes name, age, and city.\n",
    "class person:\n",
    "    def __init__(self,name,age,city):\n",
    "        self.name=name\n",
    "        self.age=age\n",
    "        self.city=city\n",
    "        \n",
    "    def display_name(self):\n",
    "        print(f\"My name is {self.name} .\")\n",
    "        \n",
    "    def display_age(self):\n",
    "        print(f\"My age is {self.age} .\")\n",
    "        \n",
    "    def display_city(self):\n",
    "        print(f\"My city name is {self.city}.\")\n",
    "        \n",
    "# Creating an object of the class        \n",
    "Person=person(\"Noor ul Ain Zahid\",19,\"Lahore\")\n",
    "\n",
    "# Calling the methods using the object instance\n",
    "Person.display_name()\n",
    "Person.display_age()\n",
    "Person.display_city()"
   ]
  },
  {
   "cell_type": "code",
   "execution_count": 3,
   "id": "95905680",
   "metadata": {},
   "outputs": [
    {
     "name": "stdout",
     "output_type": "stream",
     "text": [
      "I will own  Lamborghini in future.\n",
      "Its current model is Aventador but i will own its latest model in future.\n",
      "Its current model is of year 2024.\n"
     ]
    }
   ],
   "source": [
    "# 2. Create a class Car with attributes make, model, and year. \n",
    "\n",
    "# Define the Car class\n",
    "class Car:\n",
    "   \n",
    " # Initialize the class with attributes\n",
    "    def __init__(self,make,model,year):\n",
    "        self.make = make\n",
    "        self.model = model \n",
    "        self.year = year\n",
    "        \n",
    "# Method to display car details \n",
    "    def display_make(self):\n",
    "        print(f\"I will own {self.make} in future.\" )\n",
    "    def display_model(self):    \n",
    "        print(f\"Its current model is {self.model} but i will own its latest model in future.\")\n",
    "    def display_year(self):\n",
    "        print(f\"Its current model is of year {self.year}.\")\n",
    "        \n",
    "# Create an instance (object) of the Car class\n",
    "car=Car(\" Lamborghini\", \"Aventador\",2024)\n",
    "\n",
    "# Calling the methods using the object instance\n",
    "car.display_make()\n",
    "car.display_model()\n",
    "car.display_year()"
   ]
  },
  {
   "cell_type": "code",
   "execution_count": 6,
   "id": "fb7d52c3",
   "metadata": {},
   "outputs": [
    {
     "name": "stdout",
     "output_type": "stream",
     "text": [
      "The area of the circle is 113.04.\n",
      "The circumference of the circle is 37.68.\n"
     ]
    }
   ],
   "source": [
    "# 3. Create a class Circle with attributes radius and methods to calculate area and circumference.\n",
    "class Circle:\n",
    "    def __init__(self,radius):\n",
    "        self.radius = radius\n",
    "        self.area = 3.14*self.radius**2  # Calculate area\n",
    "        self.circumference = self.radius*3.14*2   # Calculate circumference\n",
    "        \n",
    "# Method to display the area of the circle    \n",
    "    def display_area(self):    \n",
    "        print(f\"The area of the circle is {self.area}.\")\n",
    "        \n",
    "# Method to display the circumference of the circle        \n",
    "    def display_circumference(self):\n",
    "        print(f\"The circumference of the circle is {self.circumference}.\")\n",
    "        \n",
    "# Create an object of Circle class with radius 6        \n",
    "circle = Circle(6)\n",
    "\n",
    "# Display area and circumference\n",
    "circle.display_area()\n",
    "circle.display_circumference()"
   ]
  },
  {
   "cell_type": "code",
   "execution_count": null,
   "id": "1fa8e9cb",
   "metadata": {},
   "outputs": [],
   "source": [
    "# 4. Create a class Rectangle with attributes length and width and methods to calculate area and perimeter.\n",
    "class Rectangle:\n",
    "    # Initialize the class with length and width\n",
    "    def __init__(self, length, width):\n",
    "        self.length = length\n",
    "        self.width = width\n",
    "        self.area = self.length * self.width  # Area formula: length * width\n",
    "        self.perimeter = 2 * (self.length + self.width)  # Perimeter formula: 2 * (length + width)\n",
    "    \n",
    "    # Method to display the area of the rectangle\n",
    "    def display_area(self):\n",
    "        print(f\"The area of the rectangle is {self.area}.\")\n",
    "    \n",
    "    # Method to display the perimeter of the rectangle\n",
    "    def display_perimeter(self):\n",
    "        print(f\"The perimeter of the rectangle is {self.perimeter}.\")\n",
    "\n",
    "# Create an object of Rectangle class with length 5 and width 3\n",
    "rectangle = Rectangle(5, 3)\n",
    "\n",
    "# Display area and perimeter\n",
    "rectangle.display_area()\n",
    "rectangle.display_perimeter()\n"
   ]
  },
  {
   "cell_type": "code",
   "execution_count": 7,
   "id": "8b42b6ab",
   "metadata": {},
   "outputs": [
    {
     "name": "stdout",
     "output_type": "stream",
     "text": [
      "Student Name: Noor Ul Ain Zahid\n",
      "Roll Number: 069\n",
      "Average Marks: 21.5\n"
     ]
    }
   ],
   "source": [
    "# 5.Create a class Student with attributes name, roll_number, and marks. Implement a method to calculate the average marks.\n",
    "class Student:\n",
    "    # Initialize the class with name, roll_number, and marks\n",
    "    def __init__(self, name, roll_number, marks):\n",
    "        self.name = name\n",
    "        self.roll_number = roll_number\n",
    "        self.marks = marks  # A list of marks obtained in different subjects\n",
    "        self.average = self.calculate_average()  # Calculate average marks\n",
    "    \n",
    "    # Method to calculate the average marks\n",
    "    def calculate_average(self):\n",
    "        return sum(self.marks) / len(self.marks)  # sum(marks) / number of subjects\n",
    "    \n",
    "    # Method to display student information\n",
    "    def display_info(self):\n",
    "        print(f\"Student Name: {self.name}\")\n",
    "        print(f\"Roll Number: {self.roll_number}\")\n",
    "        print(f\"Average Marks: {self.average:.1f}\")\n",
    "\n",
    "# Create an object of the Student class\n",
    "student = Student(\"Noor Ul Ain Zahid\", \"069\", [40, 21, 21, 20, 17,17,10,26])\n",
    "\n",
    "# Display student information\n",
    "student.display_info()\n"
   ]
  },
  {
   "cell_type": "code",
   "execution_count": 9,
   "id": "388017bf",
   "metadata": {},
   "outputs": [
    {
     "name": "stdout",
     "output_type": "stream",
     "text": [
      "My favourite book is 'The Alchemist'\n",
      "The Author of this book is 'Paulo Coelho'\n",
      "Its Publication Year is 1988\n"
     ]
    }
   ],
   "source": [
    "# 6. Create a class Book with attributes title, author, and publication_year.\n",
    "class Book:\n",
    "    # Initialize the class with title, author, and publication_year\n",
    "    def __init__(self, title, author, publication_year):\n",
    "        self.title = title\n",
    "        self.author = author\n",
    "        self.publication_year = publication_year\n",
    "    \n",
    "    # Method to display book details\n",
    "    def display_info(self):\n",
    "        print(f\"My favourite book is '{self.title}'\")\n",
    "        print(f\"The Author of this book is '{self.author}'\")\n",
    "        print(f\"Its Publication Year is {self.publication_year}\")\n",
    "\n",
    "# Create an object of the Book class\n",
    "book = Book(\"The Alchemist\", \"Paulo Coelho\", 1988)\n",
    "\n",
    "# Display book information\n",
    "book.display_info()\n"
   ]
  },
  {
   "cell_type": "code",
   "execution_count": 10,
   "id": "b3626cfb",
   "metadata": {},
   "outputs": [
    {
     "name": "stdout",
     "output_type": "stream",
     "text": [
      "I have an employee 'Layan' in my office.\n",
      "Her salary is Rs.100000 per month.\n",
      "Her designation is 'Data Analyst' .\n"
     ]
    }
   ],
   "source": [
    "# 7. Create a class Employee with attributes name, salary, and designation.\n",
    "class Employee:\n",
    "    # Initialize the class with name, salary, and designation\n",
    "    def __init__(self, name, salary, designation):\n",
    "        self.name = name\n",
    "        self.salary = salary\n",
    "        self.designation = designation\n",
    "    \n",
    "    # Method to display employee details\n",
    "    def display_info(self):\n",
    "        print(f\"I have an employee '{self.name}' in my office.\")\n",
    "        print(f\"Her salary is Rs.{self.salary} per month.\")\n",
    "        print(f\"Her designation is '{self.designation}' .\")\n",
    "\n",
    "# Create an object of the Employee class\n",
    "employee = Employee(\"Layan\", 100000, \"Data Analyst\")\n",
    "\n",
    "# Display employee information\n",
    "employee.display_info()\n"
   ]
  },
  {
   "cell_type": "code",
   "execution_count": 15,
   "id": "c8c6140b",
   "metadata": {},
   "outputs": [
    {
     "name": "stdout",
     "output_type": "stream",
     "text": [
      "Dear Layan! Your current balance is Rs.5000\n",
      "Dear Layan! Deposited money in your account is Rs.2000 .So, your new balance is Rs.7000\n",
      "Dear Layan! Withdrew amount from your account is Rs.3000 .So, your new balance is Rs.4000\n"
     ]
    }
   ],
   "source": [
    "# 8. Create a class Bank with attributes name, account_number, and balance. Implement methods to deposit and withdraw money.\n",
    "class Bank:\n",
    "    def __init__(self, name, account_number, balance=56780):\n",
    "        # Initialize the account with name, account number, and balance\n",
    "        self.name = name\n",
    "        self.account_number = account_number\n",
    "        self.balance = balance\n",
    "\n",
    "    def deposit(self, amount):\n",
    "        # Add money to the account balance\n",
    "        if amount > 0:\n",
    "            self.balance += amount\n",
    "            print(f\"Dear Layan! Deposited money in your account is Rs.{amount} .So, your new balance is Rs.{self.balance}\")\n",
    "        \n",
    "    def withdraw(self, amount):\n",
    "        # Subtract money from the account balance if there is enough balance\n",
    "        if amount > 0 and amount <= self.balance:\n",
    "            self.balance -= amount\n",
    "            print(f\"Dear Layan! Withdrew amount from your account is Rs.{amount} .So, your new balance is Rs.{self.balance}\")\n",
    "       \n",
    "    def show_balance(self):\n",
    "        # Display current balance\n",
    "        print(f\"Dear Layan! Your current balance is Rs.{self.balance}\")\n",
    "\n",
    "# Create a Bank account object\n",
    "account = Bank(\"Layan\", \"1234567890\", 5000)\n",
    "\n",
    "# Show the initial balance\n",
    "account.show_balance()\n",
    "\n",
    "# Deposit money\n",
    "account.deposit(2000)\n",
    "\n",
    "# Withdraw money\n",
    "account.withdraw(3000)"
   ]
  },
  {
   "cell_type": "code",
   "execution_count": null,
   "id": "86a2700e",
   "metadata": {},
   "outputs": [],
   "source": []
  }
 ],
 "metadata": {
  "kernelspec": {
   "display_name": "Python 3 (ipykernel)",
   "language": "python",
   "name": "python3"
  },
  "language_info": {
   "codemirror_mode": {
    "name": "ipython",
    "version": 3
   },
   "file_extension": ".py",
   "mimetype": "text/x-python",
   "name": "python",
   "nbconvert_exporter": "python",
   "pygments_lexer": "ipython3",
   "version": "3.11.5"
  }
 },
 "nbformat": 4,
 "nbformat_minor": 5
}
